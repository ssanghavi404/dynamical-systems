{
 "cells": [
  {
   "cell_type": "code",
   "execution_count": 1,
   "metadata": {},
   "outputs": [],
   "source": [
    "from trajectories import *\n",
    "from models import *\n",
    "from plotting import *"
   ]
  },
  {
   "cell_type": "code",
   "execution_count": 2,
   "metadata": {},
   "outputs": [
    {
     "name": "stdout",
     "output_type": "stream",
     "text": [
      "traj has shape (1, 2, 251)\n",
      "What we are plotting is (251,)\n",
      "Traj shape (2, 251)\n",
      "Meas shape (2, 251)\n"
     ]
    },
    {
     "ename": "AssertionError",
     "evalue": "Number of dimensions to plot should be at most 3",
     "output_type": "error",
     "traceback": [
      "\u001b[0;31m---------------------------------------------------------------------------\u001b[0m",
      "\u001b[0;31mAssertionError\u001b[0m                            Traceback (most recent call last)",
      "\u001b[0;32m<ipython-input-2-2391f8db8ed4>\u001b[0m in \u001b[0;36m<module>\u001b[0;34m()\u001b[0m\n\u001b[1;32m     10\u001b[0m \u001b[0mprint\u001b[0m\u001b[0;34m(\u001b[0m\u001b[0;34m\"traj has shape\"\u001b[0m\u001b[0;34m,\u001b[0m \u001b[0mtraj\u001b[0m\u001b[0;34m.\u001b[0m\u001b[0mshape\u001b[0m\u001b[0;34m)\u001b[0m\u001b[0;34m\u001b[0m\u001b[0;34m\u001b[0m\u001b[0m\n\u001b[1;32m     11\u001b[0m \u001b[0mprint\u001b[0m\u001b[0;34m(\u001b[0m\u001b[0;34m\"What we are plotting is\"\u001b[0m\u001b[0;34m,\u001b[0m \u001b[0mtraj\u001b[0m\u001b[0;34m[\u001b[0m\u001b[0;36m0\u001b[0m\u001b[0;34m,\u001b[0m \u001b[0;36m1\u001b[0m\u001b[0;34m,\u001b[0m \u001b[0;34m:\u001b[0m\u001b[0;34m]\u001b[0m\u001b[0;34m.\u001b[0m\u001b[0mshape\u001b[0m\u001b[0;34m)\u001b[0m\u001b[0;34m\u001b[0m\u001b[0;34m\u001b[0m\u001b[0m\n\u001b[0;32m---> 12\u001b[0;31m \u001b[0mplot\u001b[0m\u001b[0;34m(\u001b[0m\u001b[0;34m{\u001b[0m\u001b[0;34m\"Traj\"\u001b[0m\u001b[0;34m:\u001b[0m\u001b[0mtraj\u001b[0m\u001b[0;34m[\u001b[0m\u001b[0;36m0\u001b[0m\u001b[0;34m]\u001b[0m\u001b[0;34m,\u001b[0m \u001b[0;34m\"Meas\"\u001b[0m\u001b[0;34m:\u001b[0m\u001b[0mmeas\u001b[0m\u001b[0;34m[\u001b[0m\u001b[0;36m0\u001b[0m\u001b[0;34m]\u001b[0m\u001b[0;34m}\u001b[0m\u001b[0;34m)\u001b[0m\u001b[0;34m\u001b[0m\u001b[0;34m\u001b[0m\u001b[0m\n\u001b[0m\u001b[1;32m     13\u001b[0m \u001b[0;34m\u001b[0m\u001b[0m\n\u001b[1;32m     14\u001b[0m \u001b[0;31m# plot({\"Traj\":traj[0, 1, :]}) #, \"Meas\":meas[0].T})\u001b[0m\u001b[0;34m\u001b[0m\u001b[0;34m\u001b[0m\u001b[0;34m\u001b[0m\u001b[0m\n",
      "\u001b[0;32m~/Desktop/Research/dynamical-systems/plotting.py\u001b[0m in \u001b[0;36mplot\u001b[0;34m(series_dict)\u001b[0m\n\u001b[1;32m     12\u001b[0m     \u001b[0;32melif\u001b[0m \u001b[0mnum_dims\u001b[0m \u001b[0;34m==\u001b[0m \u001b[0;36m2\u001b[0m\u001b[0;34m:\u001b[0m \u001b[0mplot_poses2d\u001b[0m\u001b[0;34m(\u001b[0m\u001b[0mseries_dict\u001b[0m\u001b[0;34m)\u001b[0m\u001b[0;34m\u001b[0m\u001b[0;34m\u001b[0m\u001b[0m\n\u001b[1;32m     13\u001b[0m     \u001b[0;32melif\u001b[0m \u001b[0mnum_dims\u001b[0m \u001b[0;34m==\u001b[0m \u001b[0;36m3\u001b[0m\u001b[0;34m:\u001b[0m \u001b[0mplot_poses3d\u001b[0m\u001b[0;34m(\u001b[0m\u001b[0mseries_dict\u001b[0m\u001b[0;34m)\u001b[0m\u001b[0;34m\u001b[0m\u001b[0;34m\u001b[0m\u001b[0m\n\u001b[0;32m---> 14\u001b[0;31m     \u001b[0;32melse\u001b[0m\u001b[0;34m:\u001b[0m \u001b[0;32mraise\u001b[0m \u001b[0mAssertionError\u001b[0m\u001b[0;34m(\u001b[0m\u001b[0;34m\"Number of dimensions to plot should be at most 3\"\u001b[0m\u001b[0;34m)\u001b[0m\u001b[0;34m\u001b[0m\u001b[0;34m\u001b[0m\u001b[0m\n\u001b[0m\u001b[1;32m     15\u001b[0m \u001b[0;34m\u001b[0m\u001b[0m\n\u001b[1;32m     16\u001b[0m \u001b[0;31m# Plots 2d poses in Cartesian space\u001b[0m\u001b[0;34m\u001b[0m\u001b[0;34m\u001b[0m\u001b[0;34m\u001b[0m\u001b[0m\n",
      "\u001b[0;31mAssertionError\u001b[0m: Number of dimensions to plot should be at most 3"
     ]
    }
   ],
   "source": [
    "A, C, Q, R, x0, state_dim, obs_dim = so2_params()\n",
    "S = np.zeros(shape=(2, 2))\n",
    "rng = np.random.default_rng()\n",
    "\n",
    "N = 1\n",
    "T = 250\n",
    "\n",
    "traj, meas = generate_traj(N, T, A, C, Q, R, S, x0, rng)\n",
    "\n",
    "print(\"traj has shape\", traj.shape)\n",
    "print(\"What we are plotting is\", traj[0, 1, :].shape)\n",
    "plot({\"Traj\":traj[0], \"Meas\":meas[0]})\n",
    "\n",
    "# plot({\"Traj\":traj[0, 1, :]}) #, \"Meas\":meas[0].T})\n",
    "# state_dim = A.shape[0]\n",
    "\n",
    "# print(\"Trajectory is\", traj.shape)\n",
    "# print(\"Measured is\", meas.shape)\n",
    "\n",
    "# model = GPTModel(n_dims_token=state_dim, n_positions=N, n_embd=128, n_layer=6, n_head=4)\n",
    "# model.train()\n",
    "\n",
    "# meas_reshaped = torch.tensor(meas, dtype=torch.float32).permute((2, 0, 1))\n",
    "# recv = model(meas_reshaped).permute((1, 2, 0)).detach().cpu().numpy()\n",
    "\n",
    "# print(\"Recovered has shape\", recv.shape)\n",
    "# print('Plotting')\n",
    "# plot({\"Trajectory\":traj[0].T, \"Measured\":meas[0].T, \"Recovered\":recv[0].T})"
   ]
  },
  {
   "cell_type": "code",
   "execution_count": null,
   "metadata": {},
   "outputs": [],
   "source": []
  },
  {
   "cell_type": "code",
   "execution_count": null,
   "metadata": {},
   "outputs": [],
   "source": []
  }
 ],
 "metadata": {
  "kernelspec": {
   "display_name": "Python 3",
   "language": "python",
   "name": "python3"
  },
  "language_info": {
   "codemirror_mode": {
    "name": "ipython",
    "version": 3
   },
   "file_extension": ".py",
   "mimetype": "text/x-python",
   "name": "python",
   "nbconvert_exporter": "python",
   "pygments_lexer": "ipython3",
   "version": "3.7.7"
  }
 },
 "nbformat": 4,
 "nbformat_minor": 4
}
